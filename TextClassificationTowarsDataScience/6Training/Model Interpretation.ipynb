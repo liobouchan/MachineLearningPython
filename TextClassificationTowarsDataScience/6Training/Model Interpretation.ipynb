{
 "cells": [
  {
   "cell_type": "code",
   "execution_count": 1,
   "metadata": {},
   "outputs": [],
   "source": [
    "\n",
    "import pickle\n",
    "import pandas as pd\n",
    "import numpy as np\n",
    "import random"
   ]
  },
  {
   "cell_type": "code",
   "execution_count": 2,
   "metadata": {},
   "outputs": [],
   "source": [
    "# Dataframe\n",
    "path_df = \"C:/Users/LeonardoBouchan/Code/MachineLearningPython/TextClassificationTowarsDataScience/5FeatureEngineering/Pickles/df.pickle\"\n",
    "with open(path_df, 'rb') as data:\n",
    "    df = pickle.load(data)\n",
    "    \n",
    "# X_train\n",
    "path_X_train = \"C:/Users/LeonardoBouchan/Code/MachineLearningPython/TextClassificationTowarsDataScience/5FeatureEngineering/Pickles/X_train.pickle\"\n",
    "with open(path_X_train, 'rb') as data:\n",
    "    X_train = pickle.load(data)\n",
    "\n",
    "# X_test\n",
    "path_X_test = \"C:/Users/LeonardoBouchan/Code/MachineLearningPython/TextClassificationTowarsDataScience/5FeatureEngineering/Pickles/X_test.pickle\"\n",
    "with open(path_X_test, 'rb') as data:\n",
    "    X_test = pickle.load(data)\n",
    "\n",
    "# y_train\n",
    "path_y_train = \"C:/Users/LeonardoBouchan/Code/MachineLearningPython/TextClassificationTowarsDataScience/5FeatureEngineering/Pickles/y_train.pickle\"\n",
    "with open(path_y_train, 'rb') as data:\n",
    "    y_train = pickle.load(data)\n",
    "\n",
    "# y_test\n",
    "path_y_test = \"C:/Users/LeonardoBouchan/Code/MachineLearningPython/TextClassificationTowarsDataScience/5FeatureEngineering/Pickles/y_test.pickle\"\n",
    "with open(path_y_test, 'rb') as data:\n",
    "    y_test = pickle.load(data)\n",
    "\n",
    "# features_train\n",
    "path_features_train = \"C:/Users/LeonardoBouchan/Code/MachineLearningPython/TextClassificationTowarsDataScience/5FeatureEngineering/Pickles/features_train.pickle\"\n",
    "with open(path_features_train, 'rb') as data:\n",
    "    features_train = pickle.load(data)\n",
    "\n",
    "# labels_train\n",
    "path_labels_train = \"C:/Users/LeonardoBouchan/Code/MachineLearningPython/TextClassificationTowarsDataScience/5FeatureEngineering/Pickles/labels_train.pickle\"\n",
    "with open(path_labels_train, 'rb') as data:\n",
    "    labels_train = pickle.load(data)\n",
    "\n",
    "# features_test\n",
    "path_features_test = \"C:/Users/LeonardoBouchan/Code/MachineLearningPython/TextClassificationTowarsDataScience/5FeatureEngineering/Pickles/features_test.pickle\"\n",
    "with open(path_features_test, 'rb') as data:\n",
    "    features_test = pickle.load(data)\n",
    "\n",
    "# labels_test\n",
    "path_labels_test = \"C:/Users/LeonardoBouchan/Code/MachineLearningPython/TextClassificationTowarsDataScience/5FeatureEngineering/Pickles/labels_test.pickle\"\n",
    "with open(path_labels_test, 'rb') as data:\n",
    "    labels_test = pickle.load(data)\n",
    "    \n",
    "# SVM Model\n",
    "path_model = \"C:/Users/LeonardoBouchan/Code/MachineLearningPython/TextClassificationTowarsDataScience/6Training/Models/best_svc.pickle\"\n",
    "with open(path_model, 'rb') as data:\n",
    "    svc_model = pickle.load(data)\n",
    "    \n",
    "# Category mapping dictionary\n",
    "category_codes = {\n",
    "    'business': 0,\n",
    "    'entertainment': 1,\n",
    "    'politics': 2,\n",
    "    'sport': 3,\n",
    "    'tech': 4\n",
    "}\n",
    "\n",
    "category_names = {\n",
    "    0: 'business',\n",
    "    1: 'entertainment',\n",
    "    2: 'politics',\n",
    "    3: 'sport',\n",
    "    4: 'tech'\n",
    "}"
   ]
  },
  {
   "cell_type": "code",
   "execution_count": 4,
   "metadata": {},
   "outputs": [
    {
     "name": "stdout",
     "output_type": "stream",
     "text": [
      "[3 0 0 0 0 0 1 0 3 3 2 1 3 4 2 0 4 3 2 4 3 0 1 3 3 0 4 0 4 3 2 1 0 1 1 0 2\n",
      " 4 2 4 0 3 3 1 0 1 3 2 2 3 4 1 0 2 0 1 3 0 2 4 2 4 0 0 2 0 0 2 2 4 4 0 3 3\n",
      " 2 3 3 1 4 0 4 4 2 4 2 4 3 4 1 0 0 2 2 1 1 0 4 1 0 0 2 2 4 3 0 2 0 3 3 3 2\n",
      " 2 3 2 4 0 4 2 3 2 0 2 0 0 0 1 0 3 4 1 4 3 0 3 0 4 3 2 1 0 3 1 3 0 3 0 1 1\n",
      " 0 1 3 0 2 4 3 2 1 4 0 2 0 0 3 3 3 0 2 3 0 3 0 0 3 1 3 1 2 4 3 2 1 0 2 4 3\n",
      " 1 2 4 1 2 2 2 0 3 3 4 4 4 1 0 4 2 0 4 4 4 4 4 3 3 0 2 1 0 2 3 2 0 4 0 0 0\n",
      " 3 0 4 4 3 2 3 0 2 3 3 3 2 0 1 3 2 0 1 1 0 2 4 3 0 4 0 0 1 2 3 2 3 3 1 0 3\n",
      " 0 4 1 3 0 1 3 4 2 2 0 2 4 1 3 2 3 0 4 2 1 4 0 3 3 1 3 4 0 0 2 2 1 1 1 4 2\n",
      " 0 4 4 2 3 4 0 3 1 0 2 1 3 4 0 0 1 0 0 0 2 4 2 2 1 0 0 2 3 4 2 0 0 0 3 0 4\n",
      " 1]\n"
     ]
    }
   ],
   "source": [
    "#Let's get the predictions on the test set:\n",
    "\n",
    "predictions = svc_model.predict(features_test)\n",
    "print(predictions)"
   ]
  },
  {
   "cell_type": "code",
   "execution_count": 11,
   "metadata": {},
   "outputs": [
    {
     "name": "stdout",
     "output_type": "stream",
     "text": [
      "                                                Content       Category  \\\n",
      "1691  Ireland call up uncapped Campbell\\r\\n\\r\\nUlste...          sport   \n",
      "1103  Gurkhas to help tsunami victims\\r\\n\\r\\nBritain...       politics   \n",
      "477   Egypt and Israel seal trade deal\\r\\n\\r\\nIn a s...       business   \n",
      "197   Cairn shares up on new oil find\\r\\n\\r\\nShares ...       business   \n",
      "475   Saudi NCCI's shares soar\\r\\n\\r\\nShares in Saud...       business   \n",
      "...                                                 ...            ...   \n",
      "393   US Airways staff agree to pay cut\\r\\n\\r\\nA uni...       business   \n",
      "1746  Henman hopes ended in Dubai\\r\\n\\r\\nThird seed ...          sport   \n",
      "444   Executive trio leave Aer Lingus\\r\\n\\r\\nThree s...       business   \n",
      "2215  Broadband fuels online expression\\r\\n\\r\\nFast ...           tech   \n",
      "733   Farrell due to make US TV debut\\r\\n\\r\\nActor C...  entertainment   \n",
      "\n",
      "     Category_Predicted  \n",
      "1691              sport  \n",
      "1103           business  \n",
      "477            business  \n",
      "197            business  \n",
      "475            business  \n",
      "...                 ...  \n",
      "393            business  \n",
      "1746              sport  \n",
      "444            business  \n",
      "2215               tech  \n",
      "733       entertainment  \n",
      "\n",
      "[334 rows x 3 columns]\n"
     ]
    }
   ],
   "source": [
    "\n",
    "# Indexes of the test set\n",
    "index_X_test = X_test.index\n",
    "\n",
    "# We get them from the original df\n",
    "df_test = df.loc[index_X_test]\n",
    "\n",
    "# Add the predictions\n",
    "df_test['Prediction'] = predictions\n",
    "\n",
    "# Clean columns\n",
    "df_test = df_test[['Content', 'Category', 'Category_Code', 'Prediction']]\n",
    "\n",
    "# Decode\n",
    "df_test['Category_Predicted'] = df_test['Prediction']\n",
    "df_test = df_test.replace({'Category_Predicted':category_names})\n",
    "\n",
    "# Clean columns again\n",
    "df_test = df_test[['Content', 'Category', 'Category_Predicted']]\n",
    "\n",
    "print(df_test)"
   ]
  },
  {
   "cell_type": "code",
   "execution_count": 12,
   "metadata": {},
   "outputs": [
    {
     "data": {
      "text/html": [
       "<div>\n",
       "<style scoped>\n",
       "    .dataframe tbody tr th:only-of-type {\n",
       "        vertical-align: middle;\n",
       "    }\n",
       "\n",
       "    .dataframe tbody tr th {\n",
       "        vertical-align: top;\n",
       "    }\n",
       "\n",
       "    .dataframe thead th {\n",
       "        text-align: right;\n",
       "    }\n",
       "</style>\n",
       "<table border=\"1\" class=\"dataframe\">\n",
       "  <thead>\n",
       "    <tr style=\"text-align: right;\">\n",
       "      <th></th>\n",
       "      <th>Content</th>\n",
       "      <th>Category</th>\n",
       "      <th>Category_Predicted</th>\n",
       "    </tr>\n",
       "  </thead>\n",
       "  <tbody>\n",
       "    <tr>\n",
       "      <th>1691</th>\n",
       "      <td>Ireland call up uncapped Campbell\\r\\n\\r\\nUlste...</td>\n",
       "      <td>sport</td>\n",
       "      <td>sport</td>\n",
       "    </tr>\n",
       "    <tr>\n",
       "      <th>1103</th>\n",
       "      <td>Gurkhas to help tsunami victims\\r\\n\\r\\nBritain...</td>\n",
       "      <td>politics</td>\n",
       "      <td>business</td>\n",
       "    </tr>\n",
       "    <tr>\n",
       "      <th>477</th>\n",
       "      <td>Egypt and Israel seal trade deal\\r\\n\\r\\nIn a s...</td>\n",
       "      <td>business</td>\n",
       "      <td>business</td>\n",
       "    </tr>\n",
       "    <tr>\n",
       "      <th>197</th>\n",
       "      <td>Cairn shares up on new oil find\\r\\n\\r\\nShares ...</td>\n",
       "      <td>business</td>\n",
       "      <td>business</td>\n",
       "    </tr>\n",
       "    <tr>\n",
       "      <th>475</th>\n",
       "      <td>Saudi NCCI's shares soar\\r\\n\\r\\nShares in Saud...</td>\n",
       "      <td>business</td>\n",
       "      <td>business</td>\n",
       "    </tr>\n",
       "  </tbody>\n",
       "</table>\n",
       "</div>"
      ],
      "text/plain": [
       "                                                Content  Category  \\\n",
       "1691  Ireland call up uncapped Campbell\\r\\n\\r\\nUlste...     sport   \n",
       "1103  Gurkhas to help tsunami victims\\r\\n\\r\\nBritain...  politics   \n",
       "477   Egypt and Israel seal trade deal\\r\\n\\r\\nIn a s...  business   \n",
       "197   Cairn shares up on new oil find\\r\\n\\r\\nShares ...  business   \n",
       "475   Saudi NCCI's shares soar\\r\\n\\r\\nShares in Saud...  business   \n",
       "\n",
       "     Category_Predicted  \n",
       "1691              sport  \n",
       "1103           business  \n",
       "477            business  \n",
       "197            business  \n",
       "475            business  "
      ]
     },
     "execution_count": 12,
     "metadata": {},
     "output_type": "execute_result"
    }
   ],
   "source": [
    "df_test.head()\n"
   ]
  },
  {
   "cell_type": "code",
   "execution_count": 13,
   "metadata": {},
   "outputs": [
    {
     "data": {
      "text/html": [
       "<div>\n",
       "<style scoped>\n",
       "    .dataframe tbody tr th:only-of-type {\n",
       "        vertical-align: middle;\n",
       "    }\n",
       "\n",
       "    .dataframe tbody tr th {\n",
       "        vertical-align: top;\n",
       "    }\n",
       "\n",
       "    .dataframe thead th {\n",
       "        text-align: right;\n",
       "    }\n",
       "</style>\n",
       "<table border=\"1\" class=\"dataframe\">\n",
       "  <thead>\n",
       "    <tr style=\"text-align: right;\">\n",
       "      <th></th>\n",
       "      <th>Content</th>\n",
       "      <th>Category</th>\n",
       "      <th>Category_Predicted</th>\n",
       "    </tr>\n",
       "  </thead>\n",
       "  <tbody>\n",
       "    <tr>\n",
       "      <th>1103</th>\n",
       "      <td>Gurkhas to help tsunami victims\\r\\n\\r\\nBritain...</td>\n",
       "      <td>politics</td>\n",
       "      <td>business</td>\n",
       "    </tr>\n",
       "    <tr>\n",
       "      <th>1880</th>\n",
       "      <td>Half-Life 2 sweeps Bafta awards\\r\\n\\r\\nPC firs...</td>\n",
       "      <td>tech</td>\n",
       "      <td>entertainment</td>\n",
       "    </tr>\n",
       "    <tr>\n",
       "      <th>2137</th>\n",
       "      <td>Junk e-mails on relentless rise\\r\\n\\r\\nSpam tr...</td>\n",
       "      <td>tech</td>\n",
       "      <td>business</td>\n",
       "    </tr>\n",
       "  </tbody>\n",
       "</table>\n",
       "</div>"
      ],
      "text/plain": [
       "                                                Content  Category  \\\n",
       "1103  Gurkhas to help tsunami victims\\r\\n\\r\\nBritain...  politics   \n",
       "1880  Half-Life 2 sweeps Bafta awards\\r\\n\\r\\nPC firs...      tech   \n",
       "2137  Junk e-mails on relentless rise\\r\\n\\r\\nSpam tr...      tech   \n",
       "\n",
       "     Category_Predicted  \n",
       "1103           business  \n",
       "1880      entertainment  \n",
       "2137           business  "
      ]
     },
     "execution_count": 13,
     "metadata": {},
     "output_type": "execute_result"
    }
   ],
   "source": [
    "#Let's get the misclassified articles:\n",
    "\n",
    "condition = (df_test['Category'] != df_test['Category_Predicted'])\n",
    "\n",
    "df_misclassified = df_test[condition]\n",
    "\n",
    "df_misclassified.head(3)\n"
   ]
  },
  {
   "cell_type": "code",
   "execution_count": 14,
   "metadata": {},
   "outputs": [],
   "source": [
    "def output_article(row_article):\n",
    "    print('Actual Category: %s' %(row_article['Category']))\n",
    "    print('Predicted Category: %s' %(row_article['Category_Predicted']))\n",
    "    print('-------------------------------------------')\n",
    "    print('Text: ')\n",
    "    print('%s' %(row_article['Content']))"
   ]
  },
  {
   "cell_type": "code",
   "execution_count": 15,
   "metadata": {},
   "outputs": [
    {
     "data": {
      "text/plain": [
       "[956, 1339, 1205]"
      ]
     },
     "execution_count": 15,
     "metadata": {},
     "output_type": "execute_result"
    }
   ],
   "source": [
    "random.seed(8)\n",
    "list_samples = random.sample(list(df_misclassified.index), 3)\n",
    "list_samples"
   ]
  },
  {
   "cell_type": "code",
   "execution_count": 16,
   "metadata": {},
   "outputs": [
    {
     "name": "stdout",
     "output_type": "stream",
     "text": [
      "Actual Category: politics\n",
      "Predicted Category: tech\n",
      "-------------------------------------------\n",
      "Text: \n",
      "Assembly ballot papers 'missing'\r\n",
      "\r\n",
      "Hundreds of ballot papers for the regional assembly referendum in the North East have \"disappeared\".\r\n",
      "\r\n",
      "Royal Mail says it is investigating the situation, which has meant about 300 homes in County Durham are not receiving voting packs. Officials at Darlington Council are now in a race against time to try and rectify the situation. The all-postal votes of about two million electors are due to be handed in by 4 November. A spokesman for Darlington Council said: \"We have sent out the ballot papers, the problem is with Royal Mail. \"Somewhere along the line, something has gone wrong and these ballot papers have not been delivered. \"The Royal Mail is investigating to see if they can find out what the problem is.\"\r\n",
      "\r\n",
      "A spokeswoman for Royal Mail said: \"We are investigating a problem with the delivery route in the Mowden area of Darlington. \"This is affecting several hundred properties, which have failed to receive ballot papers. \"We are working closely with the council and will do all we can to help rectify the problem. \"No-one will not receive their ballot paper as special hand deliveries will take place where necessary. \"We are unaware of any other problems of this kind to do with the regional assembly vote.\"\r\n",
      "\r\n",
      "The Darlington Council spokesman added: \"Initially we had complaints from a couple of residents in Mowden to say they thought they should have had their ballot papers by now. \"We then made further investigations and it became clear this was a bigger issue.\" A spokeswoman for the Electoral Commission told BBC News Online that letters were being sent out to those homes affected. She said the commission was satisfied that measures had been put in place to ensure all voters received ballot papers in time. So far a total of 569,072 ballot envelopes have been scanned by bar code at counting offices across the North East.\n"
     ]
    }
   ],
   "source": [
    "output_article(df_misclassified.loc[list_samples[0]])\n"
   ]
  },
  {
   "cell_type": "code",
   "execution_count": 17,
   "metadata": {},
   "outputs": [
    {
     "name": "stdout",
     "output_type": "stream",
     "text": [
      "Actual Category: sport\n",
      "Predicted Category: entertainment\n",
      "-------------------------------------------\n",
      "Text: \n",
      "Holmes feted with further honour\r\n",
      "\r\n",
      "Double Olympic champion Kelly Holmes has been voted European Athletics (EAA) woman athlete of 2004 in the governing body's annual poll.\r\n",
      "\r\n",
      "The Briton, made a dame in the New Year Honours List for taking 800m and 1,500m gold, won vital votes from the public, press and EAA member federations. She is only the second British woman to land the title after- Sally Gunnell won for her world 400m hurdles win in 1993. Swedish triple jumper Christian Olsson was voted male athlete of the year. The accolade is the latest in a long list of awards that Holmes has received since her success in Athens. In addition to becoming a dame, she was also named the BBC Sports Personality of the Year in December. Her gutsy victory in the 800m also earned her the International Association of Athletics Federations' award for the best women's performance in the world for 2004. And she scooped two awards at the British Athletics Writers' Association annual dinner in October.\n"
     ]
    }
   ],
   "source": [
    "output_article(df_misclassified.loc[list_samples[1]])\n"
   ]
  },
  {
   "cell_type": "code",
   "execution_count": 18,
   "metadata": {},
   "outputs": [
    {
     "name": "stdout",
     "output_type": "stream",
     "text": [
      "Actual Category: politics\n",
      "Predicted Category: tech\n",
      "-------------------------------------------\n",
      "Text: \n",
      "MPs issued with Blackberry threat\r\n",
      "\r\n",
      "MPs will be thrown out of the Commons if they use Blackberries in the chamber Speaker Michael Martin has ruled.\r\n",
      "\r\n",
      "The Â£200 handheld computers can be used as a phone, pager or to send e-mails. The devices gained new prominence this week after Alastair Campbell used his to accidentally send an expletive-laden message to a Newsnight journalist. Mr Martin revealed some MPs had been using their Blackberries during debates and he also cautioned members against using hidden earpieces.\r\n",
      "\r\n",
      "The use of electronic devices in the Commons chamber has long been frowned on. The sound of a mobile phone or a pager can result in a strong rebuke from either the Speaker or his deputies. The Speaker chairs debates in the Commons and is charged with ensuring order in the chamber and enforcing rules and conventions of the House. He or she is always an MP chosen by colleagues who, once nominated, gives up all party political allegiances.\n"
     ]
    }
   ],
   "source": [
    "output_article(df_misclassified.loc[list_samples[2]])\n"
   ]
  }
 ],
 "metadata": {
  "kernelspec": {
   "display_name": "Python 3",
   "language": "python",
   "name": "python3"
  },
  "language_info": {
   "codemirror_mode": {
    "name": "ipython",
    "version": 3
   },
   "file_extension": ".py",
   "mimetype": "text/x-python",
   "name": "python",
   "nbconvert_exporter": "python",
   "pygments_lexer": "ipython3",
   "version": "3.7.5"
  }
 },
 "nbformat": 4,
 "nbformat_minor": 2
}
